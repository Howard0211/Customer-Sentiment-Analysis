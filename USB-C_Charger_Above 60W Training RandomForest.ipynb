{
 "cells": [
  {
   "cell_type": "markdown",
   "metadata": {},
   "source": [
    "# 1. 需求重要性"
   ]
  },
  {
   "cell_type": "code",
   "execution_count": 1,
   "metadata": {},
   "outputs": [],
   "source": [
    "# 匯入套件\n",
    "import numpy as np\n",
    "import pandas as pd\n",
    "\n",
    "from scipy.stats import pearsonr\n",
    "from scipy.stats import kstest\n",
    "from scipy.stats.contingency import association\n",
    "from sklearn.preprocessing import MultiLabelBinarizer\n",
    "from sklearn.ensemble import RandomForestRegressor"
   ]
  },
  {
   "cell_type": "code",
   "execution_count": 2,
   "metadata": {},
   "outputs": [],
   "source": [
    "# 載入資料集 (final)\n",
    "data = pd.read_excel(\"./Dataset/tb_cdri_work5_t3_final.xlsx\")"
   ]
  },
  {
   "cell_type": "code",
   "execution_count": 4,
   "metadata": {},
   "outputs": [],
   "source": [
    "# 載入資料集 (數據)\n",
    "df = pd.read_excel(\"./Dataset/QFD數據_USB-C 充電器 60W 以上.xlsx\")\n",
    "df.rename(columns = {'ASIN':'asin'}, inplace = True)\n",
    "df.drop(df.columns[10:], axis=1, inplace=True)"
   ]
  },
  {
   "cell_type": "code",
   "execution_count": 5,
   "metadata": {},
   "outputs": [],
   "source": [
    "# 刪除不要的欄位\n",
    "data.drop(columns = [\"產業\", \"Brand\", \"p_no\", \"name\",\n",
    "                    \"index\", \"opinion_items_word\", \"review\", \"title\",\n",
    "                    \"rating\",\"date\",\"p_url\",\"level1_no\",\"level2_no\"], inplace=True)"
   ]
  },
  {
   "cell_type": "code",
   "execution_count": 6,
   "metadata": {},
   "outputs": [
    {
     "name": "stderr",
     "output_type": "stream",
     "text": [
      "/var/folders/vv/v2vb6vg96pj5l09wwh26w2j40000gn/T/ipykernel_22442/1755448445.py:6: SettingWithCopyWarning: \n",
      "A value is trying to be set on a copy of a slice from a DataFrame.\n",
      "Try using .loc[row_indexer,col_indexer] = value instead\n",
      "\n",
      "See the caveats in the documentation: https://pandas.pydata.org/pandas-docs/stable/user_guide/indexing.html#returning-a-view-versus-a-copy\n",
      "  sixty_above['emotion'] = sixty_above['emotion'].map(emotion_mapping)\n"
     ]
    }
   ],
   "source": [
    "# 篩選為60W以上\n",
    "sixty_above = data[data[\"Category\"] == \"USB-C充電器(60W以上)(USB-C Power adapter/charger Above 60W)\"]\n",
    "\n",
    "# 將emotion轉為 0:negative 1:positive\n",
    "emotion_mapping = {'positive': 1, 'negative': 0}\n",
    "sixty_above['emotion'] = sixty_above['emotion'].map(emotion_mapping)"
   ]
  },
  {
   "cell_type": "code",
   "execution_count": 7,
   "metadata": {},
   "outputs": [],
   "source": [
    "# 針對主力商品 計算需求重要性\n",
    "count_df = sixty_above[\"opinion_items\"].value_counts().to_frame()\n",
    "count_df = count_df.rename(columns={\"opinion_items\":\"總評論數\"})\n",
    "count_df[\"重要性\"] = count_df.apply(lambda r:r.rank(ascending=False)).astype(int)"
   ]
  },
  {
   "cell_type": "code",
   "execution_count": 8,
   "metadata": {},
   "outputs": [],
   "source": [
    "# 計算平均\n",
    "new_mean = sixty_above.groupby(by=[\"asin\",\"opinion_items\"])[\"emotion\"].agg([\"size\",\"mean\"]).reset_index()\n",
    "new_mean.rename(columns = {\"size\":\"產品評論總數\",\"mean\":\"產品正評比例\"}, inplace = True)"
   ]
  },
  {
   "cell_type": "code",
   "execution_count": 9,
   "metadata": {},
   "outputs": [],
   "source": [
    "# 合併 df & new_mean datafeame\n",
    "import warnings\n",
    "warnings.filterwarnings(\"ignore\")\n",
    "\n",
    "final = pd.merge(df, new_mean, left_on= 'asin', right_on='asin')\n",
    "final = final.drop(columns=[\"opinion_items\"])"
   ]
  },
  {
   "cell_type": "code",
   "execution_count": 10,
   "metadata": {},
   "outputs": [],
   "source": [
    "# 萃取 opinion_items 唯一值\n",
    "items = list(sixty_above['opinion_items'].unique())"
   ]
  },
  {
   "cell_type": "markdown",
   "metadata": {},
   "source": [
    "# 2. 計算相關性"
   ]
  },
  {
   "cell_type": "code",
   "execution_count": 11,
   "metadata": {},
   "outputs": [],
   "source": [
    "feature_names = df.columns.tolist()[1:]"
   ]
  },
  {
   "cell_type": "code",
   "execution_count": 12,
   "metadata": {},
   "outputs": [
    {
     "data": {
      "text/html": [
       "<div>\n",
       "<style scoped>\n",
       "    .dataframe tbody tr th:only-of-type {\n",
       "        vertical-align: middle;\n",
       "    }\n",
       "\n",
       "    .dataframe tbody tr th {\n",
       "        vertical-align: top;\n",
       "    }\n",
       "\n",
       "    .dataframe thead th {\n",
       "        text-align: right;\n",
       "    }\n",
       "</style>\n",
       "<table border=\"1\" class=\"dataframe\">\n",
       "  <thead>\n",
       "    <tr style=\"text-align: right;\">\n",
       "      <th></th>\n",
       "      <th>尺寸(體積)</th>\n",
       "      <th>重量</th>\n",
       "      <th>特徵</th>\n",
       "      <th>USB埠數量</th>\n",
       "      <th>總輸出功率</th>\n",
       "      <th>輸出</th>\n",
       "      <th>快充協議</th>\n",
       "      <th>認證</th>\n",
       "      <th>保固</th>\n",
       "    </tr>\n",
       "  </thead>\n",
       "  <tbody>\n",
       "    <tr>\n",
       "      <th>尺寸(體積)</th>\n",
       "      <td>1.000000</td>\n",
       "      <td>0.975900</td>\n",
       "      <td>0.954770</td>\n",
       "      <td>0.987019</td>\n",
       "      <td>0.975345</td>\n",
       "      <td>0.976883</td>\n",
       "      <td>0.970848</td>\n",
       "      <td>1.000000</td>\n",
       "      <td>1.000000</td>\n",
       "    </tr>\n",
       "    <tr>\n",
       "      <th>重量</th>\n",
       "      <td>0.975900</td>\n",
       "      <td>1.000000</td>\n",
       "      <td>0.931375</td>\n",
       "      <td>0.917362</td>\n",
       "      <td>0.915535</td>\n",
       "      <td>0.913362</td>\n",
       "      <td>0.912162</td>\n",
       "      <td>1.000000</td>\n",
       "      <td>0.914195</td>\n",
       "    </tr>\n",
       "    <tr>\n",
       "      <th>特徵</th>\n",
       "      <td>0.954770</td>\n",
       "      <td>0.931375</td>\n",
       "      <td>1.000000</td>\n",
       "      <td>0.915764</td>\n",
       "      <td>0.908538</td>\n",
       "      <td>0.927188</td>\n",
       "      <td>0.951734</td>\n",
       "      <td>0.957427</td>\n",
       "      <td>0.972774</td>\n",
       "    </tr>\n",
       "    <tr>\n",
       "      <th>USB埠數量</th>\n",
       "      <td>0.987019</td>\n",
       "      <td>0.917362</td>\n",
       "      <td>0.915764</td>\n",
       "      <td>1.000000</td>\n",
       "      <td>0.616624</td>\n",
       "      <td>1.000000</td>\n",
       "      <td>0.682474</td>\n",
       "      <td>0.839974</td>\n",
       "      <td>0.307352</td>\n",
       "    </tr>\n",
       "    <tr>\n",
       "      <th>總輸出功率</th>\n",
       "      <td>0.975345</td>\n",
       "      <td>0.915535</td>\n",
       "      <td>0.908538</td>\n",
       "      <td>0.616624</td>\n",
       "      <td>1.000000</td>\n",
       "      <td>0.975553</td>\n",
       "      <td>0.657155</td>\n",
       "      <td>0.905232</td>\n",
       "      <td>0.532708</td>\n",
       "    </tr>\n",
       "    <tr>\n",
       "      <th>輸出</th>\n",
       "      <td>0.976883</td>\n",
       "      <td>0.913362</td>\n",
       "      <td>0.927188</td>\n",
       "      <td>1.000000</td>\n",
       "      <td>0.975553</td>\n",
       "      <td>1.000000</td>\n",
       "      <td>0.845812</td>\n",
       "      <td>0.924211</td>\n",
       "      <td>0.771006</td>\n",
       "    </tr>\n",
       "    <tr>\n",
       "      <th>快充協議</th>\n",
       "      <td>0.970848</td>\n",
       "      <td>0.912162</td>\n",
       "      <td>0.951734</td>\n",
       "      <td>0.682474</td>\n",
       "      <td>0.657155</td>\n",
       "      <td>0.845812</td>\n",
       "      <td>1.000000</td>\n",
       "      <td>0.925820</td>\n",
       "      <td>0.637343</td>\n",
       "    </tr>\n",
       "    <tr>\n",
       "      <th>認證</th>\n",
       "      <td>1.000000</td>\n",
       "      <td>1.000000</td>\n",
       "      <td>0.957427</td>\n",
       "      <td>0.839974</td>\n",
       "      <td>0.905232</td>\n",
       "      <td>0.924211</td>\n",
       "      <td>0.925820</td>\n",
       "      <td>1.000000</td>\n",
       "      <td>0.964365</td>\n",
       "    </tr>\n",
       "    <tr>\n",
       "      <th>保固</th>\n",
       "      <td>1.000000</td>\n",
       "      <td>0.914195</td>\n",
       "      <td>0.972774</td>\n",
       "      <td>0.307352</td>\n",
       "      <td>0.532708</td>\n",
       "      <td>0.771006</td>\n",
       "      <td>0.637343</td>\n",
       "      <td>0.964365</td>\n",
       "      <td>1.000000</td>\n",
       "    </tr>\n",
       "  </tbody>\n",
       "</table>\n",
       "</div>"
      ],
      "text/plain": [
       "          尺寸(體積)        重量        特徵    USB埠數量     總輸出功率        輸出      快充協議   \n",
       "尺寸(體積)  1.000000  0.975900  0.954770  0.987019  0.975345  0.976883  0.970848  \\\n",
       "重量      0.975900  1.000000  0.931375  0.917362  0.915535  0.913362  0.912162   \n",
       "特徵      0.954770  0.931375  1.000000  0.915764  0.908538  0.927188  0.951734   \n",
       "USB埠數量  0.987019  0.917362  0.915764  1.000000  0.616624  1.000000  0.682474   \n",
       "總輸出功率   0.975345  0.915535  0.908538  0.616624  1.000000  0.975553  0.657155   \n",
       "輸出      0.976883  0.913362  0.927188  1.000000  0.975553  1.000000  0.845812   \n",
       "快充協議    0.970848  0.912162  0.951734  0.682474  0.657155  0.845812  1.000000   \n",
       "認證      1.000000  1.000000  0.957427  0.839974  0.905232  0.924211  0.925820   \n",
       "保固      1.000000  0.914195  0.972774  0.307352  0.532708  0.771006  0.637343   \n",
       "\n",
       "              認證        保固  \n",
       "尺寸(體積)  1.000000  1.000000  \n",
       "重量      1.000000  0.914195  \n",
       "特徵      0.957427  0.972774  \n",
       "USB埠數量  0.839974  0.307352  \n",
       "總輸出功率   0.905232  0.532708  \n",
       "輸出      0.924211  0.771006  \n",
       "快充協議    0.925820  0.637343  \n",
       "認證      1.000000  0.964365  \n",
       "保固      0.964365  1.000000  "
      ]
     },
     "execution_count": 12,
     "metadata": {},
     "output_type": "execute_result"
    }
   ],
   "source": [
    "features = df.columns.size\n",
    "\n",
    "Corr = np.empty((features-1, features-1))\n",
    "\n",
    "for i in range(1, features):\n",
    "    for j in range(1, features):\n",
    "        A = df.iloc[:, i]\n",
    "        B = df.iloc[:, j]\n",
    "        if (df.iloc[:, i].dtype == 'float64') and (df.iloc[:, j].dtype == 'float64'):\n",
    "            Corr[i-1, j-1] = pearsonr(A.values.T, B.values.T)[0]\n",
    "        else:\n",
    "            C = pd.crosstab(A, B).values       \n",
    "            Corr[i-1, j-1] = association(C, method = 'cramer', correction = True)\n",
    "\n",
    "corr = pd.DataFrame(Corr, index = feature_names, columns = feature_names)\n",
    "corr"
   ]
  },
  {
   "cell_type": "markdown",
   "metadata": {},
   "source": [
    "# 3. QFD數據"
   ]
  },
  {
   "cell_type": "code",
   "execution_count": 14,
   "metadata": {},
   "outputs": [],
   "source": [
    "# 載入資料集 (數據)\n",
    "df = pd.read_excel(\"./Dataset/QFD數據_USB-C 充電器 60W 以上.xlsx\")\n",
    "df.rename(columns = {'ASIN':'asin'}, inplace = True)\n",
    "df.drop(df.columns[10:], axis=1, inplace=True)"
   ]
  },
  {
   "cell_type": "markdown",
   "metadata": {},
   "source": [
    "### 1.將重量：去掉單位 ounces"
   ]
  },
  {
   "cell_type": "code",
   "execution_count": 15,
   "metadata": {},
   "outputs": [
    {
     "data": {
      "text/html": [
       "<div>\n",
       "<style scoped>\n",
       "    .dataframe tbody tr th:only-of-type {\n",
       "        vertical-align: middle;\n",
       "    }\n",
       "\n",
       "    .dataframe tbody tr th {\n",
       "        vertical-align: top;\n",
       "    }\n",
       "\n",
       "    .dataframe thead th {\n",
       "        text-align: right;\n",
       "    }\n",
       "</style>\n",
       "<table border=\"1\" class=\"dataframe\">\n",
       "  <thead>\n",
       "    <tr style=\"text-align: right;\">\n",
       "      <th></th>\n",
       "      <th>asin</th>\n",
       "      <th>尺寸(體積)</th>\n",
       "      <th>重量</th>\n",
       "      <th>特徵</th>\n",
       "      <th>USB埠數量</th>\n",
       "      <th>總輸出功率</th>\n",
       "      <th>輸出</th>\n",
       "      <th>快充協議</th>\n",
       "      <th>認證</th>\n",
       "      <th>保固</th>\n",
       "    </tr>\n",
       "  </thead>\n",
       "  <tbody>\n",
       "    <tr>\n",
       "      <th>0</th>\n",
       "      <td>B09MV3M4GL</td>\n",
       "      <td>8.321360</td>\n",
       "      <td>6.1</td>\n",
       "      <td>Overcurrent Protection\\nShort Circuit Protecti...</td>\n",
       "      <td>2C1A</td>\n",
       "      <td>65</td>\n",
       "      <td>C1 Max 65W\\nC2 Max 25W\\nA1 Max 15W</td>\n",
       "      <td>PD 3.0\\nPDO\\nPPS\\nSFC</td>\n",
       "      <td>NaN</td>\n",
       "      <td>0</td>\n",
       "    </tr>\n",
       "    <tr>\n",
       "      <th>1</th>\n",
       "      <td>B07PZSXL9J</td>\n",
       "      <td>8.018560</td>\n",
       "      <td>5</td>\n",
       "      <td>GaN\\nFoldable Plug</td>\n",
       "      <td>1C1A</td>\n",
       "      <td>60</td>\n",
       "      <td>C1 Max 45W\\nA1 Max 15W</td>\n",
       "      <td>PowerIQ 3.0</td>\n",
       "      <td>TUV certification</td>\n",
       "      <td>18</td>\n",
       "    </tr>\n",
       "    <tr>\n",
       "      <th>2</th>\n",
       "      <td>B07D64QLQ1</td>\n",
       "      <td>4.268990</td>\n",
       "      <td>3.42</td>\n",
       "      <td>Lightweight\\nFoldable Plug\\nCompact</td>\n",
       "      <td>1C</td>\n",
       "      <td>65</td>\n",
       "      <td>C1 Max 65W</td>\n",
       "      <td>PD</td>\n",
       "      <td>FCC\\nSGS NA listed\\nDOE Level VI</td>\n",
       "      <td>18</td>\n",
       "    </tr>\n",
       "    <tr>\n",
       "      <th>3</th>\n",
       "      <td>B097PTBB5V</td>\n",
       "      <td>20.475000</td>\n",
       "      <td>10.8</td>\n",
       "      <td>Overcurrent Protection\\nShort Circuit Protecti...</td>\n",
       "      <td>1C</td>\n",
       "      <td>100</td>\n",
       "      <td>C1 Max 100W</td>\n",
       "      <td>PD 3.0</td>\n",
       "      <td>NaN</td>\n",
       "      <td>0</td>\n",
       "    </tr>\n",
       "    <tr>\n",
       "      <th>4</th>\n",
       "      <td>B07ZCGYP27</td>\n",
       "      <td>9.536406</td>\n",
       "      <td>4.8</td>\n",
       "      <td>Ultra Slim\\nOvercharge Protection\\nTemperature...</td>\n",
       "      <td>1C3A</td>\n",
       "      <td>65</td>\n",
       "      <td>C1 Max 65W\\nA1 Max 20W\\nA2 Max 20W\\nA3 Max 20W</td>\n",
       "      <td>PowerIQ 3.0</td>\n",
       "      <td>NaN</td>\n",
       "      <td>0</td>\n",
       "    </tr>\n",
       "  </tbody>\n",
       "</table>\n",
       "</div>"
      ],
      "text/plain": [
       "         asin     尺寸(體積)    重量   \n",
       "0  B09MV3M4GL   8.321360   6.1  \\\n",
       "1  B07PZSXL9J   8.018560     5   \n",
       "2  B07D64QLQ1   4.268990  3.42   \n",
       "3  B097PTBB5V  20.475000  10.8   \n",
       "4  B07ZCGYP27   9.536406   4.8   \n",
       "\n",
       "                                                  特徵 USB埠數量 總輸出功率   \n",
       "0  Overcurrent Protection\\nShort Circuit Protecti...   2C1A    65  \\\n",
       "1                                 GaN\\nFoldable Plug   1C1A    60   \n",
       "2                Lightweight\\nFoldable Plug\\nCompact     1C    65   \n",
       "3  Overcurrent Protection\\nShort Circuit Protecti...     1C   100   \n",
       "4  Ultra Slim\\nOvercharge Protection\\nTemperature...   1C3A    65   \n",
       "\n",
       "                                               輸出                   快充協議   \n",
       "0              C1 Max 65W\\nC2 Max 25W\\nA1 Max 15W  PD 3.0\\nPDO\\nPPS\\nSFC  \\\n",
       "1                          C1 Max 45W\\nA1 Max 15W            PowerIQ 3.0   \n",
       "2                                      C1 Max 65W                     PD   \n",
       "3                                     C1 Max 100W                 PD 3.0   \n",
       "4  C1 Max 65W\\nA1 Max 20W\\nA2 Max 20W\\nA3 Max 20W            PowerIQ 3.0   \n",
       "\n",
       "                                 認證  保固  \n",
       "0                               NaN   0  \n",
       "1                 TUV certification  18  \n",
       "2  FCC\\nSGS NA listed\\nDOE Level VI  18  \n",
       "3                               NaN   0  \n",
       "4                               NaN   0  "
      ]
     },
     "execution_count": 15,
     "metadata": {},
     "output_type": "execute_result"
    }
   ],
   "source": [
    "df[\"重量\"] = df[\"重量\"].str.split(\" \", expand=True)[0]\n",
    "df[\"總輸出功率\"] = df[\"總輸出功率\"].str.split(\"W\", expand=True)[0]\n",
    "df.head()"
   ]
  },
  {
   "cell_type": "code",
   "execution_count": 16,
   "metadata": {},
   "outputs": [],
   "source": [
    "# 字串處理成數值\n",
    "df[\"保固\"] = df[\"保固\"].replace([\"Lifetime Warranty\", 'lifetime warranty', '12(plus 12-month warranty extension)'], [100, 100, 24])"
   ]
  },
  {
   "cell_type": "markdown",
   "metadata": {},
   "source": [
    "### 2.USB埠數量: 要切割成 2 欄，分別代表 USB-A 和 USB-C的數量"
   ]
  },
  {
   "cell_type": "code",
   "execution_count": 17,
   "metadata": {},
   "outputs": [],
   "source": [
    "USB_C = []\n",
    "USB_A = []\n",
    "\n",
    "for i in df[\"USB埠數量\"]:\n",
    "    if len(i)//2 == 1:\n",
    "        USB_C.append(i[::])\n",
    "        x = i + \"0A\"\n",
    "        y = x[2:]\n",
    "        USB_A.append(y)\n",
    "    else:\n",
    "        C = slice(0, len(i)//2)\n",
    "        A = slice(len(i)//2, len(i))\n",
    "        USB_C.append(i[C]), USB_A.append(i[A]) \n",
    "        \n",
    "# 把Ｃ替換成空白，只保留數值\n",
    "USBC = [i.replace(\"C\", \"\") for i in USB_C]\n",
    "# 把A替換成空白，只保留數值\n",
    "USBA = [i.replace(\"A\", \"\") for i in USB_A]\n",
    "\n",
    "# 新增新的兩個欄位USB-C,USB-A，並刪除欄位USB埠數量\n",
    "df[\"USB-C數量\"] = pd.DataFrame(USBC)\n",
    "df[\"USB-A數量\"] = pd.DataFrame(USBA)\n",
    "df = df.drop(columns=[\"USB埠數量\"], axis=1)"
   ]
  },
  {
   "cell_type": "markdown",
   "metadata": {},
   "source": [
    "### 3.輸出: 類似作法分割成 2 columns，分別代表 USB-A 和 USB-C的最高輸出功率"
   ]
  },
  {
   "cell_type": "code",
   "execution_count": 18,
   "metadata": {},
   "outputs": [],
   "source": [
    "# Import Library Regex\n",
    "import re\n",
    "\n",
    "# Define Function for Usb-A & Usb-C\n",
    "def Extract_Usb_Max(input):\n",
    "    numbers = max(map(float, re.findall('\\d*\\.\\d+|\\d+', input)))\n",
    "    return numbers\n",
    "\n",
    "def UsbC_Max(amount, type):\n",
    "    for i in range(len(df)):\n",
    "        if df[amount][i] == '1':\n",
    "            type.append(Extract_Usb_Max(df[\"輸出\"][i][:10]))\n",
    "        \n",
    "        if df[amount][i] == '2':\n",
    "            type.append(Extract_Usb_Max(df[\"輸出\"][i][:21]))\n",
    "        \n",
    "        if df[amount][i] == '3':\n",
    "            type.append(Extract_Usb_Max(df[\"輸出\"][i][:37]))\n",
    "        \n",
    "        if df[amount][i] == '4':\n",
    "            type.append(Extract_Usb_Max(df[\"輸出\"][i][:58]))\n",
    "\n",
    "def UsbA_Max(amount, type):\n",
    "    for i in range(len(df)):\n",
    "        if df[amount][i] == '0':\n",
    "            type.append(0)\n",
    "\n",
    "        if df[amount][i] == '1':\n",
    "            type.append(Extract_Usb_Max(df[\"輸出\"][i][-10:]))\n",
    "        \n",
    "        if df[amount][i] == '2':\n",
    "            type.append(Extract_Usb_Max(df[\"輸出\"][i][-21:]))\n",
    "        \n",
    "        if df[amount][i] == '3':\n",
    "            type.append(Extract_Usb_Max(df[\"輸出\"][i][-32:]))\n",
    "        \n",
    "        if df[amount][i] == '4':\n",
    "            type.append(Extract_Usb_Max(df[\"輸出\"][i][-50:]))\n",
    "            \n",
    "\n",
    "\n",
    "# Execute Function & Get the Final Dataframe\n",
    "numberC = []\n",
    "numberA = []\n",
    "UsbC_Max('USB-C數量', numberC)\n",
    "UsbA_Max('USB-A數量', numberA)\n",
    "\n",
    "df['USB-C Max'] = numberC\n",
    "df['USB-A Max'] = numberA"
   ]
  },
  {
   "cell_type": "markdown",
   "metadata": {},
   "source": [
    "### 4.“特徵”、“快充協議”和“認證”: 則可以看成是 multi-label 的問題 "
   ]
  },
  {
   "cell_type": "code",
   "execution_count": 19,
   "metadata": {},
   "outputs": [],
   "source": [
    "# 匯入套件\n",
    "from sklearn.preprocessing import MultiLabelBinarizer\n",
    "mlb = MultiLabelBinarizer()"
   ]
  },
  {
   "cell_type": "code",
   "execution_count": 20,
   "metadata": {},
   "outputs": [],
   "source": [
    "# 特徵欄位處理\n",
    "\n",
    "df_final = df.join(pd.DataFrame(mlb.fit_transform([str(df.loc[i,'特徵']).split(\"\\n\")\n",
    "                                                   for i in range(len(df))]), columns=mlb.classes_))\n",
    "col_特徵 = mlb.classes_.tolist()"
   ]
  },
  {
   "cell_type": "code",
   "execution_count": 21,
   "metadata": {},
   "outputs": [],
   "source": [
    "# 快充協議欄位處理\n",
    "\n",
    "df_final = df_final.join(pd.DataFrame(mlb.fit_transform([str(df.loc[i,'快充協議']).split(\"\\n\")\n",
    "                                                   for i in range(len(df))]), columns=mlb.classes_))\n",
    "col_快充 = mlb.classes_.tolist()\n",
    "col_快充.remove('nan')\n",
    "df_final = df_final.drop(\"nan\", axis=1)"
   ]
  },
  {
   "cell_type": "code",
   "execution_count": 22,
   "metadata": {},
   "outputs": [],
   "source": [
    "# 認證欄位處理\n",
    "\n",
    "df_final = df_final.join(pd.DataFrame(mlb.fit_transform([str(df.loc[i,'認證']).split(\"\\n\")\n",
    "                                                   for i in range(len(df))]), columns=mlb.classes_))\n",
    "col_認證 = mlb.classes_.tolist()\n",
    "col_認證.remove('nan')\n",
    "df_final = df_final.drop(\"nan\", axis=1)"
   ]
  },
  {
   "cell_type": "code",
   "execution_count": 23,
   "metadata": {},
   "outputs": [],
   "source": [
    "# 改變資料型態為浮點數\n",
    "df1 = df_final.astype({'重量':'float', \n",
    "                       \"USB-C數量\":\"float\",\n",
    "                       \"USB-A數量\":\"float\", \n",
    "                       \"總輸出功率\":\"float\"})"
   ]
  },
  {
   "cell_type": "code",
   "execution_count": 24,
   "metadata": {},
   "outputs": [],
   "source": [
    "# 刪除原始數據欄位\n",
    "df = df1.drop(columns={'特徵', \"輸出\", \"快充協議\", \"認證\"}, axis=1)"
   ]
  },
  {
   "cell_type": "code",
   "execution_count": 25,
   "metadata": {},
   "outputs": [],
   "source": [
    "spec_columns = df.columns.tolist()[1:]"
   ]
  },
  {
   "cell_type": "markdown",
   "metadata": {},
   "source": [
    "# 4. 合併及建模"
   ]
  },
  {
   "cell_type": "markdown",
   "metadata": {},
   "source": [
    "## 隨機森林回歸模型"
   ]
  },
  {
   "cell_type": "code",
   "execution_count": 78,
   "metadata": {},
   "outputs": [],
   "source": [
    "# Parameters:\n",
    "# n_estimators: 森林中樹木的數量，預設=100。\n",
    "# max_features: 劃分時考慮的最大特徵數，預設auto。\n",
    "# criterion: 評估切割點指標，mse/mae。\n",
    "# max_depth: 樹的最大深度。\n",
    "# splitter: 特徵劃分點選擇標準，best/random。預設為best。\n",
    "# random_state: 亂數種子，確保每次訓練結果都一樣，splitter=random 才有用。\n",
    "# min_samples_split: 至少有多少資料才能再分\n",
    "# min_samples_leaf: 分完至少有多少資料才能分\n",
    "# Attributes:\n",
    "# feature_importances_: 查詢模型特徵的重要程度。"
   ]
  },
  {
   "cell_type": "code",
   "execution_count": 27,
   "metadata": {},
   "outputs": [
    {
     "ename": "InvalidParameterError",
     "evalue": "The 'criterion' parameter of RandomForestRegressor must be a str among {'friedman_mse', 'poisson', 'squared_error', 'absolute_error'}. Got 'mse' instead.",
     "output_type": "error",
     "traceback": [
      "\u001b[0;31m---------------------------------------------------------------------------\u001b[0m",
      "\u001b[0;31mInvalidParameterError\u001b[0m                     Traceback (most recent call last)",
      "Cell \u001b[0;32mIn[27], line 40\u001b[0m\n\u001b[1;32m     37\u001b[0m             best_par \u001b[38;5;241m=\u001b[39m {\u001b[38;5;124m'\u001b[39m\u001b[38;5;124mnumber\u001b[39m\u001b[38;5;124m'\u001b[39m:n, \u001b[38;5;124m'\u001b[39m\u001b[38;5;124mmax_depth\u001b[39m\u001b[38;5;124m'\u001b[39m: d}\n\u001b[1;32m     39\u001b[0m forest \u001b[38;5;241m=\u001b[39m RandomForestRegressor(n_estimators \u001b[38;5;241m=\u001b[39m best_par[\u001b[38;5;124m'\u001b[39m\u001b[38;5;124mnumber\u001b[39m\u001b[38;5;124m'\u001b[39m], criterion \u001b[38;5;241m=\u001b[39m \u001b[38;5;124m\"\u001b[39m\u001b[38;5;124mmse\u001b[39m\u001b[38;5;124m\"\u001b[39m, max_features \u001b[38;5;241m=\u001b[39m \u001b[38;5;124m\"\u001b[39m\u001b[38;5;124msqrt\u001b[39m\u001b[38;5;124m\"\u001b[39m, max_depth \u001b[38;5;241m=\u001b[39m best_par[\u001b[38;5;124m'\u001b[39m\u001b[38;5;124mmax_depth\u001b[39m\u001b[38;5;124m'\u001b[39m])\n\u001b[0;32m---> 40\u001b[0m \u001b[43mforest\u001b[49m\u001b[38;5;241;43m.\u001b[39;49m\u001b[43mfit\u001b[49m\u001b[43m(\u001b[49m\u001b[43mX_train\u001b[49m\u001b[43m,\u001b[49m\u001b[43m \u001b[49m\u001b[43my_train\u001b[49m\u001b[43m)\u001b[49m\n\u001b[1;32m     41\u001b[0m predicted \u001b[38;5;241m=\u001b[39m forest\u001b[38;5;241m.\u001b[39mpredict(X_test)\n\u001b[1;32m     42\u001b[0m mse \u001b[38;5;241m=\u001b[39m metrics\u001b[38;5;241m.\u001b[39mmean_squared_error(y_test, predicted)\n",
      "File \u001b[0;32m/opt/homebrew/Caskroom/miniforge/base/envs/tf/lib/python3.9/site-packages/sklearn/ensemble/_forest.py:340\u001b[0m, in \u001b[0;36mBaseForest.fit\u001b[0;34m(self, X, y, sample_weight)\u001b[0m\n\u001b[1;32m    313\u001b[0m \u001b[38;5;28;01mdef\u001b[39;00m \u001b[38;5;21mfit\u001b[39m(\u001b[38;5;28mself\u001b[39m, X, y, sample_weight\u001b[38;5;241m=\u001b[39m\u001b[38;5;28;01mNone\u001b[39;00m):\n\u001b[1;32m    314\u001b[0m \u001b[38;5;250m    \u001b[39m\u001b[38;5;124;03m\"\"\"\u001b[39;00m\n\u001b[1;32m    315\u001b[0m \u001b[38;5;124;03m    Build a forest of trees from the training set (X, y).\u001b[39;00m\n\u001b[1;32m    316\u001b[0m \n\u001b[0;32m   (...)\u001b[0m\n\u001b[1;32m    338\u001b[0m \u001b[38;5;124;03m        Fitted estimator.\u001b[39;00m\n\u001b[1;32m    339\u001b[0m \u001b[38;5;124;03m    \"\"\"\u001b[39;00m\n\u001b[0;32m--> 340\u001b[0m     \u001b[38;5;28;43mself\u001b[39;49m\u001b[38;5;241;43m.\u001b[39;49m\u001b[43m_validate_params\u001b[49m\u001b[43m(\u001b[49m\u001b[43m)\u001b[49m\n\u001b[1;32m    342\u001b[0m     \u001b[38;5;66;03m# Validate or convert input data\u001b[39;00m\n\u001b[1;32m    343\u001b[0m     \u001b[38;5;28;01mif\u001b[39;00m issparse(y):\n",
      "File \u001b[0;32m/opt/homebrew/Caskroom/miniforge/base/envs/tf/lib/python3.9/site-packages/sklearn/base.py:600\u001b[0m, in \u001b[0;36mBaseEstimator._validate_params\u001b[0;34m(self)\u001b[0m\n\u001b[1;32m    592\u001b[0m \u001b[38;5;28;01mdef\u001b[39;00m \u001b[38;5;21m_validate_params\u001b[39m(\u001b[38;5;28mself\u001b[39m):\n\u001b[1;32m    593\u001b[0m \u001b[38;5;250m    \u001b[39m\u001b[38;5;124;03m\"\"\"Validate types and values of constructor parameters\u001b[39;00m\n\u001b[1;32m    594\u001b[0m \n\u001b[1;32m    595\u001b[0m \u001b[38;5;124;03m    The expected type and values must be defined in the `_parameter_constraints`\u001b[39;00m\n\u001b[0;32m   (...)\u001b[0m\n\u001b[1;32m    598\u001b[0m \u001b[38;5;124;03m    accepted constraints.\u001b[39;00m\n\u001b[1;32m    599\u001b[0m \u001b[38;5;124;03m    \"\"\"\u001b[39;00m\n\u001b[0;32m--> 600\u001b[0m     \u001b[43mvalidate_parameter_constraints\u001b[49m\u001b[43m(\u001b[49m\n\u001b[1;32m    601\u001b[0m \u001b[43m        \u001b[49m\u001b[38;5;28;43mself\u001b[39;49m\u001b[38;5;241;43m.\u001b[39;49m\u001b[43m_parameter_constraints\u001b[49m\u001b[43m,\u001b[49m\n\u001b[1;32m    602\u001b[0m \u001b[43m        \u001b[49m\u001b[38;5;28;43mself\u001b[39;49m\u001b[38;5;241;43m.\u001b[39;49m\u001b[43mget_params\u001b[49m\u001b[43m(\u001b[49m\u001b[43mdeep\u001b[49m\u001b[38;5;241;43m=\u001b[39;49m\u001b[38;5;28;43;01mFalse\u001b[39;49;00m\u001b[43m)\u001b[49m\u001b[43m,\u001b[49m\n\u001b[1;32m    603\u001b[0m \u001b[43m        \u001b[49m\u001b[43mcaller_name\u001b[49m\u001b[38;5;241;43m=\u001b[39;49m\u001b[38;5;28;43mself\u001b[39;49m\u001b[38;5;241;43m.\u001b[39;49m\u001b[38;5;18;43m__class__\u001b[39;49m\u001b[38;5;241;43m.\u001b[39;49m\u001b[38;5;18;43m__name__\u001b[39;49m\u001b[43m,\u001b[49m\n\u001b[1;32m    604\u001b[0m \u001b[43m    \u001b[49m\u001b[43m)\u001b[49m\n",
      "File \u001b[0;32m/opt/homebrew/Caskroom/miniforge/base/envs/tf/lib/python3.9/site-packages/sklearn/utils/_param_validation.py:97\u001b[0m, in \u001b[0;36mvalidate_parameter_constraints\u001b[0;34m(parameter_constraints, params, caller_name)\u001b[0m\n\u001b[1;32m     91\u001b[0m \u001b[38;5;28;01melse\u001b[39;00m:\n\u001b[1;32m     92\u001b[0m     constraints_str \u001b[38;5;241m=\u001b[39m (\n\u001b[1;32m     93\u001b[0m         \u001b[38;5;124mf\u001b[39m\u001b[38;5;124m\"\u001b[39m\u001b[38;5;132;01m{\u001b[39;00m\u001b[38;5;124m'\u001b[39m\u001b[38;5;124m, \u001b[39m\u001b[38;5;124m'\u001b[39m\u001b[38;5;241m.\u001b[39mjoin([\u001b[38;5;28mstr\u001b[39m(c)\u001b[38;5;250m \u001b[39m\u001b[38;5;28;01mfor\u001b[39;00m\u001b[38;5;250m \u001b[39mc\u001b[38;5;250m \u001b[39m\u001b[38;5;129;01min\u001b[39;00m\u001b[38;5;250m \u001b[39mconstraints[:\u001b[38;5;241m-\u001b[39m\u001b[38;5;241m1\u001b[39m]])\u001b[38;5;132;01m}\u001b[39;00m\u001b[38;5;124m or\u001b[39m\u001b[38;5;124m\"\u001b[39m\n\u001b[1;32m     94\u001b[0m         \u001b[38;5;124mf\u001b[39m\u001b[38;5;124m\"\u001b[39m\u001b[38;5;124m \u001b[39m\u001b[38;5;132;01m{\u001b[39;00mconstraints[\u001b[38;5;241m-\u001b[39m\u001b[38;5;241m1\u001b[39m]\u001b[38;5;132;01m}\u001b[39;00m\u001b[38;5;124m\"\u001b[39m\n\u001b[1;32m     95\u001b[0m     )\n\u001b[0;32m---> 97\u001b[0m \u001b[38;5;28;01mraise\u001b[39;00m InvalidParameterError(\n\u001b[1;32m     98\u001b[0m     \u001b[38;5;124mf\u001b[39m\u001b[38;5;124m\"\u001b[39m\u001b[38;5;124mThe \u001b[39m\u001b[38;5;132;01m{\u001b[39;00mparam_name\u001b[38;5;132;01m!r}\u001b[39;00m\u001b[38;5;124m parameter of \u001b[39m\u001b[38;5;132;01m{\u001b[39;00mcaller_name\u001b[38;5;132;01m}\u001b[39;00m\u001b[38;5;124m must be\u001b[39m\u001b[38;5;124m\"\u001b[39m\n\u001b[1;32m     99\u001b[0m     \u001b[38;5;124mf\u001b[39m\u001b[38;5;124m\"\u001b[39m\u001b[38;5;124m \u001b[39m\u001b[38;5;132;01m{\u001b[39;00mconstraints_str\u001b[38;5;132;01m}\u001b[39;00m\u001b[38;5;124m. Got \u001b[39m\u001b[38;5;132;01m{\u001b[39;00mparam_val\u001b[38;5;132;01m!r}\u001b[39;00m\u001b[38;5;124m instead.\u001b[39m\u001b[38;5;124m\"\u001b[39m\n\u001b[1;32m    100\u001b[0m )\n",
      "\u001b[0;31mInvalidParameterError\u001b[0m: The 'criterion' parameter of RandomForestRegressor must be a str among {'friedman_mse', 'poisson', 'squared_error', 'absolute_error'}. Got 'mse' instead."
     ]
    }
   ],
   "source": [
    "# 合併 data & new_mean datafeame\n",
    "import warnings\n",
    "warnings.filterwarnings(\"ignore\")\n",
    "from sklearn.ensemble import RandomForestRegressor\n",
    "from sklearn.model_selection import train_test_split\n",
    "from sklearn import metrics\n",
    "from sklearn.model_selection import cross_val_score\n",
    "\n",
    "importances = np.empty((0,75), int)\n",
    "\n",
    "\n",
    "number_list = [i for i in range(10, 110, 10)] # 設定 RandomForestRegression 模型裡的 n_estimaters 參數\n",
    "\n",
    "mse_list = [] # 建立MSE串列\n",
    "maxd_list = [1, 2, 3] # 建立樹的深度\n",
    "\n",
    "for i in items:\n",
    "    comment_temp = new_mean[new_mean['opinion_items'] == i].reset_index(drop = True)\n",
    "    spec_comment = pd.merge(df, comment_temp, left_on= 'asin', right_on='asin')\n",
    "    spec_comment.drop(columns=['opinion_items'], axis=1, inplace=True)\n",
    "    \n",
    "    X = spec_comment.iloc[:,1:-2].values\n",
    "    y = spec_comment.iloc[:,-1].values\n",
    "    \n",
    "    # split into train test sets\n",
    "    X_train, X_test, y_train, y_test = train_test_split(X, y, test_size=0.15, random_state=42)   \n",
    "\n",
    "    # Fit the model\n",
    "    best_mse = 1\n",
    "    best_par = {}\n",
    "    for n in number_list:\n",
    "        for d in maxd_list:\n",
    "            forest = RandomForestRegressor(n_estimators = n, criterion = \"absolute_error\", max_features = \"sqrt\", max_depth = d)\n",
    "            mse = cross_val_score(forest, X_train, y_train, cv=len(y_train), scoring='neg_mean_squared_error').mean()\n",
    "            if mse < best_mse:\n",
    "                best_mse = mse\n",
    "                best_par = {'number':n, 'max_depth': d}\n",
    "\n",
    "    forest = RandomForestRegressor(n_estimators = best_par['number'], criterion = \"mse\", max_features = \"sqrt\", max_depth = best_par['max_depth'])\n",
    "    forest.fit(X_train, y_train)\n",
    "    predicted = forest.predict(X_test)\n",
    "    mse = metrics.mean_squared_error(y_test, predicted)\n",
    "    mse_list.append([mse, best_par])\n",
    "\n",
    "    importances = np.vstack([importances, forest.feature_importances_])\n",
    "\n",
    "MSE = pd.DataFrame(mse_list, columns=[\"MSE Score\", \"Best parameters\"])\n",
    "MSE"
   ]
  },
  {
   "cell_type": "code",
   "execution_count": 80,
   "metadata": {},
   "outputs": [],
   "source": [
    "df = pd.DataFrame(importances, index = items, columns = spec_columns)"
   ]
  },
  {
   "cell_type": "code",
   "execution_count": 81,
   "metadata": {},
   "outputs": [],
   "source": [
    "sum_col_特徵 = df[col_特徵].sum(axis = 1)\n",
    "df1 = df.assign(特徵 = sum_col_特徵)\n",
    "df = df1.drop(columns = col_特徵)\n",
    "\n",
    "sum_col_快充 = df[col_快充].sum(axis = 1)\n",
    "df2 = df.assign(快充 = sum_col_快充)\n",
    "df = df2.drop(columns = col_快充)\n",
    "\n",
    "sum_col_認證 = df[col_認證].sum(axis = 1)\n",
    "df3 = df.assign(認證 = sum_col_認證)\n",
    "df = df3.drop(columns = col_認證)\n",
    "\n",
    "# 將 df 匯出成Excel\n",
    "df.to_excel(\"/Users/howard/Desktop/商業發展研究院產學/Python ipynb/Excel檔/USB-C_充電器_60W以上訓練RandomForest.xlsx\")"
   ]
  }
 ],
 "metadata": {
  "kernelspec": {
   "display_name": "Python 3.10 (tf)",
   "language": "python",
   "name": "tf"
  },
  "language_info": {
   "codemirror_mode": {
    "name": "ipython",
    "version": 3
   },
   "file_extension": ".py",
   "mimetype": "text/x-python",
   "name": "python",
   "nbconvert_exporter": "python",
   "pygments_lexer": "ipython3",
   "version": "3.9.16"
  },
  "vscode": {
   "interpreter": {
    "hash": "d9188aa32e17a821d2c4a3f608e7777a5506a6ca804d2f1f154beaa8946744ad"
   }
  }
 },
 "nbformat": 4,
 "nbformat_minor": 2
}
