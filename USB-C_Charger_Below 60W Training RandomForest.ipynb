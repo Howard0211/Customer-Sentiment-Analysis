{
 "cells": [
  {
   "cell_type": "markdown",
   "metadata": {},
   "source": [
    "# 1. 需求重要性"
   ]
  },
  {
   "cell_type": "code",
   "execution_count": 52,
   "metadata": {},
   "outputs": [],
   "source": [
    "# 匯入套件\n",
    "import numpy as np\n",
    "import pandas as pd\n",
    "\n",
    "from scipy.stats import pearsonr\n",
    "from scipy.stats import kstest\n",
    "from scipy.stats.contingency import association\n",
    "from sklearn.preprocessing import MultiLabelBinarizer\n",
    "from sklearn.ensemble import RandomForestRegressor"
   ]
  },
  {
   "cell_type": "code",
   "execution_count": 53,
   "metadata": {},
   "outputs": [],
   "source": [
    "# 載入資料集 (final)\n",
    "data = pd.read_excel(\"../Dataset/tb_cdri_work5_t3_final.xlsx\")"
   ]
  },
  {
   "cell_type": "code",
   "execution_count": 54,
   "metadata": {},
   "outputs": [],
   "source": [
    "# 載入資料集 (數據)\n",
    "df = pd.read_excel(\"../Dataset/QFD數據_USB-C 充電器 未滿 60W.xlsx\")\n",
    "df.rename(columns = {'ASIN':'asin'}, inplace = True)\n",
    "df.drop(df.columns[10:], axis=1, inplace=True)"
   ]
  },
  {
   "cell_type": "code",
   "execution_count": 55,
   "metadata": {},
   "outputs": [],
   "source": [
    "# 刪除不要的欄位\n",
    "data.drop(columns = [\"產業\", \"Brand\", \"p_no\", \"name\",\n",
    "                    \"index\", \"opinion_items_word\", \"review\", \"title\",\n",
    "                    \"rating\",\"date\",\"p_url\",\"level1_no\",\"level2_no\"], inplace=True)"
   ]
  },
  {
   "cell_type": "code",
   "execution_count": 56,
   "metadata": {},
   "outputs": [],
   "source": [
    "# 篩選為60W以上\n",
    "sixty_below = data[data[\"Category\"] == \"USB-C充電器(未滿60W)(USB-C Power adapter/charger Below 60W)\"]\n",
    "\n",
    "# 將emotion轉為 0:negative 1:positive\n",
    "emotion_mapping = {'positive': 1, 'negative': 0}\n",
    "sixty_below['emotion'] = sixty_below['emotion'].map(emotion_mapping)"
   ]
  },
  {
   "cell_type": "code",
   "execution_count": 57,
   "metadata": {},
   "outputs": [],
   "source": [
    "# 針對主力商品 計算需求重要性\n",
    "count_df = sixty_below[\"opinion_items\"].value_counts().to_frame()\n",
    "count_df = count_df.rename(columns={\"opinion_items\":\"總評論數\"})\n",
    "count_df[\"重要性\"] = count_df.apply(lambda r:r.rank(ascending=False)).astype(int)"
   ]
  },
  {
   "cell_type": "code",
   "execution_count": 58,
   "metadata": {},
   "outputs": [],
   "source": [
    "# 計算平均\n",
    "new_mean = sixty_below.groupby(by=[\"asin\",\"opinion_items\"])[\"emotion\"].agg([\"size\",\"mean\"]).reset_index()\n",
    "new_mean.rename(columns = {\"size\":\"產品評論總數\",\"mean\":\"產品正評比例\"}, inplace = True)"
   ]
  },
  {
   "cell_type": "code",
   "execution_count": 59,
   "metadata": {},
   "outputs": [],
   "source": [
    "# 合併 df & new_mean datafeame\n",
    "import warnings\n",
    "warnings.filterwarnings(\"ignore\")\n",
    "\n",
    "final = pd.merge(df, new_mean, left_on= 'asin', right_on='asin')\n",
    "final = final.drop(columns=[\"opinion_items\"])"
   ]
  },
  {
   "cell_type": "code",
   "execution_count": 60,
   "metadata": {},
   "outputs": [],
   "source": [
    "# 萃取 opinion_items 的唯一值\n",
    "items = list(sixty_below['opinion_items'].unique())"
   ]
  },
  {
   "cell_type": "markdown",
   "metadata": {},
   "source": [
    "# 2. 計算相關性"
   ]
  },
  {
   "cell_type": "code",
   "execution_count": 61,
   "metadata": {},
   "outputs": [],
   "source": [
    "feature_names = df.columns.tolist()[1:]"
   ]
  },
  {
   "cell_type": "code",
   "execution_count": 62,
   "metadata": {},
   "outputs": [
    {
     "data": {
      "text/html": [
       "<div>\n",
       "<style scoped>\n",
       "    .dataframe tbody tr th:only-of-type {\n",
       "        vertical-align: middle;\n",
       "    }\n",
       "\n",
       "    .dataframe tbody tr th {\n",
       "        vertical-align: top;\n",
       "    }\n",
       "\n",
       "    .dataframe thead th {\n",
       "        text-align: right;\n",
       "    }\n",
       "</style>\n",
       "<table border=\"1\" class=\"dataframe\">\n",
       "  <thead>\n",
       "    <tr style=\"text-align: right;\">\n",
       "      <th></th>\n",
       "      <th>尺寸(面積)</th>\n",
       "      <th>重量</th>\n",
       "      <th>特徵</th>\n",
       "      <th>USB埠數量</th>\n",
       "      <th>總輸出功率</th>\n",
       "      <th>輸出</th>\n",
       "      <th>快充協議</th>\n",
       "      <th>認證</th>\n",
       "      <th>保固</th>\n",
       "    </tr>\n",
       "  </thead>\n",
       "  <tbody>\n",
       "    <tr>\n",
       "      <th>尺寸(面積)</th>\n",
       "      <td>1.000000</td>\n",
       "      <td>0.980196</td>\n",
       "      <td>0.969918</td>\n",
       "      <td>1.000000</td>\n",
       "      <td>1.000000</td>\n",
       "      <td>1.000000</td>\n",
       "      <td>0.968644</td>\n",
       "      <td>1.000000</td>\n",
       "      <td>0.981071</td>\n",
       "    </tr>\n",
       "    <tr>\n",
       "      <th>重量</th>\n",
       "      <td>0.980196</td>\n",
       "      <td>1.000000</td>\n",
       "      <td>0.963624</td>\n",
       "      <td>1.000000</td>\n",
       "      <td>0.973865</td>\n",
       "      <td>0.984604</td>\n",
       "      <td>0.937392</td>\n",
       "      <td>1.000000</td>\n",
       "      <td>0.948958</td>\n",
       "    </tr>\n",
       "    <tr>\n",
       "      <th>特徵</th>\n",
       "      <td>0.969918</td>\n",
       "      <td>0.963624</td>\n",
       "      <td>1.000000</td>\n",
       "      <td>1.000000</td>\n",
       "      <td>0.946485</td>\n",
       "      <td>0.967169</td>\n",
       "      <td>1.000000</td>\n",
       "      <td>1.000000</td>\n",
       "      <td>0.960143</td>\n",
       "    </tr>\n",
       "    <tr>\n",
       "      <th>USB埠數量</th>\n",
       "      <td>1.000000</td>\n",
       "      <td>1.000000</td>\n",
       "      <td>1.000000</td>\n",
       "      <td>1.000000</td>\n",
       "      <td>0.796099</td>\n",
       "      <td>1.000000</td>\n",
       "      <td>0.658975</td>\n",
       "      <td>1.000000</td>\n",
       "      <td>0.557247</td>\n",
       "    </tr>\n",
       "    <tr>\n",
       "      <th>總輸出功率</th>\n",
       "      <td>1.000000</td>\n",
       "      <td>0.973865</td>\n",
       "      <td>0.946485</td>\n",
       "      <td>0.796099</td>\n",
       "      <td>1.000000</td>\n",
       "      <td>1.000000</td>\n",
       "      <td>0.677589</td>\n",
       "      <td>0.692219</td>\n",
       "      <td>0.457331</td>\n",
       "    </tr>\n",
       "    <tr>\n",
       "      <th>輸出</th>\n",
       "      <td>1.000000</td>\n",
       "      <td>0.984604</td>\n",
       "      <td>0.967169</td>\n",
       "      <td>1.000000</td>\n",
       "      <td>1.000000</td>\n",
       "      <td>1.000000</td>\n",
       "      <td>0.705976</td>\n",
       "      <td>0.790569</td>\n",
       "      <td>0.669570</td>\n",
       "    </tr>\n",
       "    <tr>\n",
       "      <th>快充協議</th>\n",
       "      <td>0.968644</td>\n",
       "      <td>0.937392</td>\n",
       "      <td>1.000000</td>\n",
       "      <td>0.658975</td>\n",
       "      <td>0.677589</td>\n",
       "      <td>0.705976</td>\n",
       "      <td>1.000000</td>\n",
       "      <td>0.889757</td>\n",
       "      <td>0.714718</td>\n",
       "    </tr>\n",
       "    <tr>\n",
       "      <th>認證</th>\n",
       "      <td>1.000000</td>\n",
       "      <td>1.000000</td>\n",
       "      <td>1.000000</td>\n",
       "      <td>1.000000</td>\n",
       "      <td>0.692219</td>\n",
       "      <td>0.790569</td>\n",
       "      <td>0.889757</td>\n",
       "      <td>1.000000</td>\n",
       "      <td>0.645497</td>\n",
       "    </tr>\n",
       "    <tr>\n",
       "      <th>保固</th>\n",
       "      <td>0.981071</td>\n",
       "      <td>0.948958</td>\n",
       "      <td>0.960143</td>\n",
       "      <td>0.557247</td>\n",
       "      <td>0.457331</td>\n",
       "      <td>0.669570</td>\n",
       "      <td>0.714718</td>\n",
       "      <td>0.645497</td>\n",
       "      <td>1.000000</td>\n",
       "    </tr>\n",
       "  </tbody>\n",
       "</table>\n",
       "</div>"
      ],
      "text/plain": [
       "          尺寸(面積)        重量        特徵    USB埠數量     總輸出功率        輸出      快充協議  \\\n",
       "尺寸(面積)  1.000000  0.980196  0.969918  1.000000  1.000000  1.000000  0.968644   \n",
       "重量      0.980196  1.000000  0.963624  1.000000  0.973865  0.984604  0.937392   \n",
       "特徵      0.969918  0.963624  1.000000  1.000000  0.946485  0.967169  1.000000   \n",
       "USB埠數量  1.000000  1.000000  1.000000  1.000000  0.796099  1.000000  0.658975   \n",
       "總輸出功率   1.000000  0.973865  0.946485  0.796099  1.000000  1.000000  0.677589   \n",
       "輸出      1.000000  0.984604  0.967169  1.000000  1.000000  1.000000  0.705976   \n",
       "快充協議    0.968644  0.937392  1.000000  0.658975  0.677589  0.705976  1.000000   \n",
       "認證      1.000000  1.000000  1.000000  1.000000  0.692219  0.790569  0.889757   \n",
       "保固      0.981071  0.948958  0.960143  0.557247  0.457331  0.669570  0.714718   \n",
       "\n",
       "              認證        保固  \n",
       "尺寸(面積)  1.000000  0.981071  \n",
       "重量      1.000000  0.948958  \n",
       "特徵      1.000000  0.960143  \n",
       "USB埠數量  1.000000  0.557247  \n",
       "總輸出功率   0.692219  0.457331  \n",
       "輸出      0.790569  0.669570  \n",
       "快充協議    0.889757  0.714718  \n",
       "認證      1.000000  0.645497  \n",
       "保固      0.645497  1.000000  "
      ]
     },
     "execution_count": 62,
     "metadata": {},
     "output_type": "execute_result"
    }
   ],
   "source": [
    "features = df.columns.size\n",
    "\n",
    "Corr = np.empty((features-1, features-1))\n",
    "\n",
    "for i in range(1, features):\n",
    "    for j in range(1, features):\n",
    "        A = df.iloc[:, i]\n",
    "        B = df.iloc[:, j]\n",
    "        if (df.iloc[:, i].dtype == 'float64') and (df.iloc[:, j].dtype == 'float64'):\n",
    "            Corr[i-1, j-1] = pearsonr(A.values.T, B.values.T)[0]\n",
    "        else:\n",
    "            C = pd.crosstab(A, B).values       \n",
    "            Corr[i-1, j-1] = association(C, method = 'cramer', correction = True)\n",
    "\n",
    "corr = pd.DataFrame(Corr, index = feature_names, columns = feature_names)\n",
    "corr"
   ]
  },
  {
   "cell_type": "markdown",
   "metadata": {},
   "source": [
    "# 3. QFD數據"
   ]
  },
  {
   "cell_type": "code",
   "execution_count": 63,
   "metadata": {},
   "outputs": [],
   "source": [
    "# 載入資料集 (數據)\n",
    "df = pd.read_excel(\"../Dataset/QFD數據_USB-C 充電器 未滿 60W.xlsx\")\n",
    "df.rename(columns = {'ASIN':'asin'}, inplace = True)\n",
    "df.drop(df.columns[10:], axis=1, inplace=True)"
   ]
  },
  {
   "cell_type": "markdown",
   "metadata": {},
   "source": [
    "### 1.將重量：去掉單位 ounces"
   ]
  },
  {
   "cell_type": "code",
   "execution_count": 64,
   "metadata": {},
   "outputs": [],
   "source": [
    "df[\"重量\"] = df[\"重量\"].str.split(\" \", expand=True)[0]\n",
    "df[\"總輸出功率\"] = df[\"總輸出功率\"].str.split(\"W\", expand=True)[0]"
   ]
  },
  {
   "cell_type": "markdown",
   "metadata": {},
   "source": [
    "### 2.USB埠數量: 要切割成 2 欄，分別代表 USB-A 和 USB-C的數量"
   ]
  },
  {
   "cell_type": "code",
   "execution_count": 65,
   "metadata": {},
   "outputs": [],
   "source": [
    "USB_C = []\n",
    "USB_A = []\n",
    "\n",
    "for i in df[\"USB埠數量\"]:\n",
    "    if len(i)//2 == 1:\n",
    "        USB_C.append(i[::])\n",
    "        x = i + \"0A\"\n",
    "        y = x[2:]\n",
    "        USB_A.append(y)\n",
    "    else:\n",
    "        C = slice(0, len(i)//2)\n",
    "        A = slice(len(i)//2, len(i))\n",
    "        USB_C.append(i[C]), USB_A.append(i[A])\n",
    "        \n",
    "        \n",
    "# 把Ｃ替換成空白，只保留數值\n",
    "USBC = [i.replace(\"C\", \"\") for i in USB_C]\n",
    "# 把A替換成空白，只保留數值\n",
    "USBA = [i.replace(\"A\", \"\") for i in USB_A]\n",
    "\n",
    "\n",
    "# 新增新的兩個欄位USB-C,USB-A，並刪除欄位USB埠數量\n",
    "df[\"USB-C數量\"] = pd.DataFrame(USBC)\n",
    "df[\"USB-A數量\"] = pd.DataFrame(USBA)\n",
    "df = df.drop(columns=[\"USB埠數量\"], axis=1)"
   ]
  },
  {
   "cell_type": "markdown",
   "metadata": {},
   "source": [
    "### 3.輸出: 類似作法分割成 2 columns，分別代表 USB-A 和 USB-C的最高輸出功率"
   ]
  },
  {
   "cell_type": "code",
   "execution_count": 66,
   "metadata": {},
   "outputs": [],
   "source": [
    "# Import Library Regex\n",
    "import re\n",
    "\n",
    "# Define Function for Usb-A & Usb-C\n",
    "def Extract_Usb_Max(input):\n",
    "    numbers = max(map(float, re.findall('\\d*\\.\\d+|\\d+', input)))\n",
    "    return numbers\n",
    "\n",
    "def UsbC_Max(amount, type):\n",
    "    for i in range(len(df)):\n",
    "        if df[amount][i] == '1':\n",
    "            type.append(Extract_Usb_Max(df[\"輸出\"][i][:10]))\n",
    "        \n",
    "        if df[amount][i] == '2':\n",
    "            type.append(Extract_Usb_Max(df[\"輸出\"][i][:21]))\n",
    "        \n",
    "        if df[amount][i] == '3':\n",
    "            type.append(Extract_Usb_Max(df[\"輸出\"][i][:37]))\n",
    "        \n",
    "        if df[amount][i] == '4':\n",
    "            type.append(Extract_Usb_Max(df[\"輸出\"][i][:58]))\n",
    "\n",
    "def UsbA_Max(amount, type):\n",
    "    for i in range(len(df)):\n",
    "        if df[amount][i] == '0':\n",
    "            type.append(0)\n",
    "\n",
    "        if df[amount][i] == '1':\n",
    "            type.append(Extract_Usb_Max(df[\"輸出\"][i][-10:]))\n",
    "        \n",
    "        if df[amount][i] == '2':\n",
    "            type.append(Extract_Usb_Max(df[\"輸出\"][i][-21:]))\n",
    "        \n",
    "        if df[amount][i] == '3':\n",
    "            type.append(Extract_Usb_Max(df[\"輸出\"][i][-32:]))\n",
    "        \n",
    "        if df[amount][i] == '4':\n",
    "            type.append(Extract_Usb_Max(df[\"輸出\"][i][-50:]))\n",
    "            \n",
    "\n",
    "\n",
    "# Execute Function & Get the Final Dataframe\n",
    "numberC = []\n",
    "numberA = []\n",
    "UsbC_Max('USB-C數量', numberC)\n",
    "UsbA_Max('USB-A數量', numberA)\n",
    "\n",
    "df['USB-C Max'] = numberC\n",
    "df['USB-A Max'] = numberA"
   ]
  },
  {
   "cell_type": "markdown",
   "metadata": {},
   "source": [
    "### 4.“特徵”、“快充協議”和“認證”: 則可以看成是 multi-label 的問題 "
   ]
  },
  {
   "cell_type": "code",
   "execution_count": 67,
   "metadata": {},
   "outputs": [],
   "source": [
    "# 匯入套件\n",
    "from sklearn.preprocessing import MultiLabelBinarizer\n",
    "mlb = MultiLabelBinarizer()"
   ]
  },
  {
   "cell_type": "code",
   "execution_count": 68,
   "metadata": {},
   "outputs": [],
   "source": [
    "# 特徵欄位處理\n",
    "df_final = df.join(pd.DataFrame(mlb.fit_transform([str(df.loc[i,'特徵']).split(\"\\n\")\n",
    "                                                   for i in range(len(df))]), columns=mlb.classes_))\n",
    "col_特徵 = mlb.classes_.tolist()\n",
    "col_特徵.remove('nan')\n",
    "df_final = df_final.drop(\"nan\", axis=1)"
   ]
  },
  {
   "cell_type": "code",
   "execution_count": 69,
   "metadata": {},
   "outputs": [],
   "source": [
    "# 快充協議欄位處理\n",
    "df_final = df_final.join(pd.DataFrame(mlb.fit_transform([str(df.loc[i,'快充協議']).split(\"\\n\")\n",
    "                                                   for i in range(len(df))]), columns=mlb.classes_))\n",
    "col_快充 = mlb.classes_.tolist()\n",
    "col_快充.remove('nan')\n",
    "df_final = df_final.drop(\"nan\", axis=1)"
   ]
  },
  {
   "cell_type": "code",
   "execution_count": 70,
   "metadata": {},
   "outputs": [],
   "source": [
    "# 認證欄位處理\n",
    "df_final = df_final.join(pd.DataFrame(mlb.fit_transform([str(df.loc[i,'認證']).split(\"\\n\")\n",
    "                                                   for i in range(len(df))]), columns=mlb.classes_))\n",
    "col_認證 = mlb.classes_.tolist()\n",
    "col_認證.remove('nan')\n",
    "df_final = df_final.drop(\"nan\", axis=1)"
   ]
  },
  {
   "cell_type": "code",
   "execution_count": 71,
   "metadata": {},
   "outputs": [],
   "source": [
    "# 改變資料型態為浮點數\n",
    "df1 = df_final.astype({'重量':'float', \n",
    "                       \"USB-C數量\":\"float\",\n",
    "                       \"USB-A數量\":\"float\", \n",
    "                       \"總輸出功率\":\"float\"})"
   ]
  },
  {
   "cell_type": "code",
   "execution_count": 72,
   "metadata": {},
   "outputs": [],
   "source": [
    "# 刪除原始數據欄位\n",
    "df = df1.drop(columns={'特徵', \"輸出\", \"快充協議\", \"認證\"}, axis=1)"
   ]
  },
  {
   "cell_type": "code",
   "execution_count": 73,
   "metadata": {},
   "outputs": [],
   "source": [
    "spec_columns = df.columns.tolist()[1:]"
   ]
  },
  {
   "cell_type": "markdown",
   "metadata": {},
   "source": [
    "# 4. 合併及建模"
   ]
  },
  {
   "cell_type": "markdown",
   "metadata": {},
   "source": [
    "## 隨機森林回歸模型"
   ]
  },
  {
   "cell_type": "code",
   "execution_count": 74,
   "metadata": {},
   "outputs": [
    {
     "data": {
      "text/html": [
       "<div>\n",
       "<style scoped>\n",
       "    .dataframe tbody tr th:only-of-type {\n",
       "        vertical-align: middle;\n",
       "    }\n",
       "\n",
       "    .dataframe tbody tr th {\n",
       "        vertical-align: top;\n",
       "    }\n",
       "\n",
       "    .dataframe thead th {\n",
       "        text-align: right;\n",
       "    }\n",
       "</style>\n",
       "<table border=\"1\" class=\"dataframe\">\n",
       "  <thead>\n",
       "    <tr style=\"text-align: right;\">\n",
       "      <th></th>\n",
       "      <th>MSE Score</th>\n",
       "      <th>Best parameters</th>\n",
       "    </tr>\n",
       "  </thead>\n",
       "  <tbody>\n",
       "    <tr>\n",
       "      <th>0</th>\n",
       "      <td>0.038635</td>\n",
       "      <td>{'number': 30, 'max_depth': 3}</td>\n",
       "    </tr>\n",
       "    <tr>\n",
       "      <th>1</th>\n",
       "      <td>0.094709</td>\n",
       "      <td>{'number': 10, 'max_depth': 2}</td>\n",
       "    </tr>\n",
       "    <tr>\n",
       "      <th>2</th>\n",
       "      <td>0.044754</td>\n",
       "      <td>{'number': 10, 'max_depth': 2}</td>\n",
       "    </tr>\n",
       "    <tr>\n",
       "      <th>3</th>\n",
       "      <td>0.015136</td>\n",
       "      <td>{'number': 10, 'max_depth': 2}</td>\n",
       "    </tr>\n",
       "    <tr>\n",
       "      <th>4</th>\n",
       "      <td>0.047404</td>\n",
       "      <td>{'number': 60, 'max_depth': 3}</td>\n",
       "    </tr>\n",
       "    <tr>\n",
       "      <th>5</th>\n",
       "      <td>0.294741</td>\n",
       "      <td>{'number': 20, 'max_depth': 3}</td>\n",
       "    </tr>\n",
       "    <tr>\n",
       "      <th>6</th>\n",
       "      <td>0.008231</td>\n",
       "      <td>{'number': 10, 'max_depth': 3}</td>\n",
       "    </tr>\n",
       "    <tr>\n",
       "      <th>7</th>\n",
       "      <td>0.021830</td>\n",
       "      <td>{'number': 10, 'max_depth': 2}</td>\n",
       "    </tr>\n",
       "    <tr>\n",
       "      <th>8</th>\n",
       "      <td>0.106711</td>\n",
       "      <td>{'number': 30, 'max_depth': 3}</td>\n",
       "    </tr>\n",
       "    <tr>\n",
       "      <th>9</th>\n",
       "      <td>0.034111</td>\n",
       "      <td>{'number': 10, 'max_depth': 3}</td>\n",
       "    </tr>\n",
       "    <tr>\n",
       "      <th>10</th>\n",
       "      <td>0.163691</td>\n",
       "      <td>{'number': 40, 'max_depth': 3}</td>\n",
       "    </tr>\n",
       "    <tr>\n",
       "      <th>11</th>\n",
       "      <td>0.245204</td>\n",
       "      <td>{'number': 10, 'max_depth': 1}</td>\n",
       "    </tr>\n",
       "    <tr>\n",
       "      <th>12</th>\n",
       "      <td>0.075781</td>\n",
       "      <td>{'number': 40, 'max_depth': 3}</td>\n",
       "    </tr>\n",
       "    <tr>\n",
       "      <th>13</th>\n",
       "      <td>0.140313</td>\n",
       "      <td>{'number': 10, 'max_depth': 3}</td>\n",
       "    </tr>\n",
       "    <tr>\n",
       "      <th>14</th>\n",
       "      <td>1.000000</td>\n",
       "      <td>{'number': 10, 'max_depth': 1}</td>\n",
       "    </tr>\n",
       "    <tr>\n",
       "      <th>15</th>\n",
       "      <td>0.160000</td>\n",
       "      <td>{'number': 10, 'max_depth': 1}</td>\n",
       "    </tr>\n",
       "    <tr>\n",
       "      <th>16</th>\n",
       "      <td>1.000000</td>\n",
       "      <td>{'number': 10, 'max_depth': 1}</td>\n",
       "    </tr>\n",
       "  </tbody>\n",
       "</table>\n",
       "</div>"
      ],
      "text/plain": [
       "    MSE Score                 Best parameters\n",
       "0    0.038635  {'number': 30, 'max_depth': 3}\n",
       "1    0.094709  {'number': 10, 'max_depth': 2}\n",
       "2    0.044754  {'number': 10, 'max_depth': 2}\n",
       "3    0.015136  {'number': 10, 'max_depth': 2}\n",
       "4    0.047404  {'number': 60, 'max_depth': 3}\n",
       "5    0.294741  {'number': 20, 'max_depth': 3}\n",
       "6    0.008231  {'number': 10, 'max_depth': 3}\n",
       "7    0.021830  {'number': 10, 'max_depth': 2}\n",
       "8    0.106711  {'number': 30, 'max_depth': 3}\n",
       "9    0.034111  {'number': 10, 'max_depth': 3}\n",
       "10   0.163691  {'number': 40, 'max_depth': 3}\n",
       "11   0.245204  {'number': 10, 'max_depth': 1}\n",
       "12   0.075781  {'number': 40, 'max_depth': 3}\n",
       "13   0.140313  {'number': 10, 'max_depth': 3}\n",
       "14   1.000000  {'number': 10, 'max_depth': 1}\n",
       "15   0.160000  {'number': 10, 'max_depth': 1}\n",
       "16   1.000000  {'number': 10, 'max_depth': 1}"
      ]
     },
     "execution_count": 74,
     "metadata": {},
     "output_type": "execute_result"
    }
   ],
   "source": [
    "# 合併 data & new_mean datafeame\n",
    "import warnings\n",
    "warnings.filterwarnings(\"ignore\")\n",
    "from sklearn.ensemble import RandomForestRegressor\n",
    "from sklearn.model_selection import train_test_split\n",
    "from sklearn import metrics\n",
    "from sklearn.model_selection import cross_val_score\n",
    "\n",
    "importances = np.empty((0, 40), int)\n",
    "\n",
    "number_list = [i for i in range(10, 110, 10)] # 設定 RandomForestRegression 模型裡的 n_estimaters 參數\n",
    "\n",
    "mse_list = [] # 建立MSE串列\n",
    "maxd_list = [1, 2, 3] # 建立樹的深度串列\n",
    "\n",
    "for i in items:\n",
    "    comment_temp = new_mean[new_mean['opinion_items'] == i].reset_index(drop = True)\n",
    "    spec_comment = pd.merge(df, comment_temp, left_on= 'asin', right_on='asin')\n",
    "    spec_comment.drop(columns = ['opinion_items'], axis=1, inplace=True)\n",
    "    \n",
    "    if len(spec_comment) > 2:\n",
    "        X = spec_comment.iloc[:,1:-2].values\n",
    "        y = spec_comment.iloc[:,-1].values\n",
    "    \n",
    "    # split into train test sets\n",
    "    X_train, X_test, y_train, y_test = train_test_split(X, y, test_size=0.15, random_state=42)\n",
    "\n",
    "    # Fit the model\n",
    "    best_mse = 1\n",
    "    best_par = {}\n",
    "    for n in number_list:\n",
    "        for d in maxd_list:\n",
    "            forest = RandomForestRegressor(n_estimators = n, criterion = \"mse\", max_features = \"sqrt\", max_depth = d)\n",
    "            mse = cross_val_score(forest, X_train, y_train, cv=len(y_train), scoring='neg_mean_squared_error').mean()\n",
    "            if mse < best_mse:\n",
    "                best_mse = mse\n",
    "                best_par = {'number':n, 'max_depth': d}\n",
    "    \n",
    "    forest = RandomForestRegressor(n_estimators = best_par['number'], criterion = \"mse\", max_features = \"sqrt\", max_depth = best_par['max_depth'])\n",
    "    forest.fit(X_train, y_train)\n",
    "    predicted = forest.predict(X_test)\n",
    "    mse = metrics.mean_squared_error(y_test, predicted)\n",
    "    mse_list.append([mse, best_par])\n",
    "    \n",
    "    importances = np.vstack([importances, forest.feature_importances_])\n",
    "    \n",
    "MSE = pd.DataFrame(mse_list, columns=[\"MSE Score\", \"Best parameters\"])\n",
    "MSE"
   ]
  },
  {
   "cell_type": "code",
   "execution_count": 75,
   "metadata": {},
   "outputs": [],
   "source": [
    "df = pd.DataFrame(importances, index = items, columns = spec_columns)"
   ]
  },
  {
   "cell_type": "code",
   "execution_count": 76,
   "metadata": {},
   "outputs": [],
   "source": [
    "# 計算需求與規格的關係\n",
    "sum_col_特徵 = df[col_特徵].sum(axis = 1)\n",
    "df1 = df.assign(特徵 = sum_col_特徵)\n",
    "df = df1.drop(columns = col_特徵)\n",
    "\n",
    "sum_col_快充 = df[col_快充].sum(axis = 1)\n",
    "df2 = df.assign(快充 = sum_col_快充)\n",
    "df = df2.drop(columns = col_快充)\n",
    "\n",
    "sum_col_認證 = df[col_認證].sum(axis = 1)\n",
    "df3 = df.assign(認證 = sum_col_認證)\n",
    "df = df3.drop(columns = col_認證)\n",
    "\n",
    "# 將 df 匯出成Excel\n",
    "df.to_excel(\"/Users/howard/Desktop/商業發展研究院產學/Python ipynb/Excel檔/USB-C_充電器_60W以下訓練RandomForest.xlsx\")"
   ]
  }
 ],
 "metadata": {
  "kernelspec": {
   "display_name": "Python 3.9.13 ('tensorflow2')",
   "language": "python",
   "name": "python3"
  },
  "language_info": {
   "codemirror_mode": {
    "name": "ipython",
    "version": 3
   },
   "file_extension": ".py",
   "mimetype": "text/x-python",
   "name": "python",
   "nbconvert_exporter": "python",
   "pygments_lexer": "ipython3",
   "version": "3.9.13"
  },
  "vscode": {
   "interpreter": {
    "hash": "d9188aa32e17a821d2c4a3f608e7777a5506a6ca804d2f1f154beaa8946744ad"
   }
  }
 },
 "nbformat": 4,
 "nbformat_minor": 2
}
